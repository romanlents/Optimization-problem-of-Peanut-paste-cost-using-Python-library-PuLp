{
 "cells": [
  {
   "cell_type": "code",
   "execution_count": 65,
   "metadata": {},
   "outputs": [],
   "source": [
    "import pulp\n",
    "from pulp import *\n",
    "import pandas as pd\n",
    "import numpy as np"
   ]
  },
  {
   "cell_type": "markdown",
   "metadata": {},
   "source": [
    "In this optimization problem we have to optimize the cost of peanuts paste having the ingredients, proportions required, number of pastes to produce, cost and availability of each ingredient."
   ]
  },
  {
   "cell_type": "code",
   "execution_count": 144,
   "metadata": {},
   "outputs": [],
   "source": [
    "df = pd.DataFrame(data = {'Ingredients' : ['peanuts', 'sunflower seeds', 'honey'], 'Cost(rub/kg)' : [120, 60, 250], 'Availability' : [30, 50, 10]})"
   ]
  },
  {
   "cell_type": "code",
   "execution_count": 145,
   "metadata": {},
   "outputs": [
    {
     "data": {
      "text/html": [
       "<div>\n",
       "<style scoped>\n",
       "    .dataframe tbody tr th:only-of-type {\n",
       "        vertical-align: middle;\n",
       "    }\n",
       "\n",
       "    .dataframe tbody tr th {\n",
       "        vertical-align: top;\n",
       "    }\n",
       "\n",
       "    .dataframe thead th {\n",
       "        text-align: right;\n",
       "    }\n",
       "</style>\n",
       "<table border=\"1\" class=\"dataframe\">\n",
       "  <thead>\n",
       "    <tr style=\"text-align: right;\">\n",
       "      <th></th>\n",
       "      <th>Ingredients</th>\n",
       "      <th>Cost(rub/kg)</th>\n",
       "      <th>Availability</th>\n",
       "    </tr>\n",
       "  </thead>\n",
       "  <tbody>\n",
       "    <tr>\n",
       "      <th>0</th>\n",
       "      <td>peanuts</td>\n",
       "      <td>120</td>\n",
       "      <td>30</td>\n",
       "    </tr>\n",
       "    <tr>\n",
       "      <th>1</th>\n",
       "      <td>sunflower seeds</td>\n",
       "      <td>60</td>\n",
       "      <td>50</td>\n",
       "    </tr>\n",
       "    <tr>\n",
       "      <th>2</th>\n",
       "      <td>honey</td>\n",
       "      <td>250</td>\n",
       "      <td>10</td>\n",
       "    </tr>\n",
       "  </tbody>\n",
       "</table>\n",
       "</div>"
      ],
      "text/plain": [
       "       Ingredients  Cost(rub/kg)  Availability\n",
       "0          peanuts           120            30\n",
       "1  sunflower seeds            60            50\n",
       "2            honey           250            10"
      ]
     },
     "execution_count": 145,
     "metadata": {},
     "output_type": "execute_result"
    }
   ],
   "source": [
    "df"
   ]
  },
  {
   "cell_type": "markdown",
   "metadata": {},
   "source": [
    "We need to make 2 types of paste: economy and premium. Economy (>40% of peanuts) and Premium (>60% of peanuts). Each can is 250 grams (0.25 kg)\n",
    "\n",
    "Sunflower seeds can be used at most 25%. "
   ]
  },
  {
   "cell_type": "markdown",
   "metadata": {},
   "source": [
    "Our demand is to produce 100 economy and 100 premium pastes. "
   ]
  },
  {
   "cell_type": "raw",
   "metadata": {},
   "source": [
    "pe = peanut in the economy paste (kg)\n",
    "se = sunflower seeds in the economy paste (kg)\n",
    "he = honey in the economy paste (kg)\n",
    "pp = peanut in the premium paste (kg)\n",
    "sp = sunflower seeds in the premium paste (kg)\n",
    "hp = honey in the premium paste (kg)"
   ]
  },
  {
   "cell_type": "raw",
   "metadata": {},
   "source": [
    "Cost(objective function to minimize) = 120(pe + pp) + 60(se + sp) + 250(he + hp)"
   ]
  },
  {
   "cell_type": "raw",
   "metadata": {},
   "source": [
    "Constraints:\n",
    "\n",
    "pe + se + he = 100 x 0.25\n",
    "pp + sp + hp = 100 x 0.25\n",
    "pe >= 0.4(pe + se + he)\n",
    "pp >= 0.6(pp + sp + hp)\n",
    "se >= 0.25(pe + se + he)\n",
    "sp >= 0.25(pp + sp + hp)\n",
    "\n",
    "pe + pp <= 30\n",
    "se + sp <= 50\n",
    "he + hp <= 10"
   ]
  },
  {
   "cell_type": "code",
   "execution_count": 146,
   "metadata": {},
   "outputs": [],
   "source": [
    "# Initiate our problem \n",
    "model = pulp.LpProblem('Cost minimising blending problem', pulp.LpMinimize)"
   ]
  },
  {
   "cell_type": "code",
   "execution_count": 147,
   "metadata": {},
   "outputs": [
    {
     "data": {
      "text/plain": [
       "Cost minimising blending problem:\n",
       "MINIMIZE\n",
       "None\n",
       "VARIABLES"
      ]
     },
     "execution_count": 147,
     "metadata": {},
     "output_type": "execute_result"
    }
   ],
   "source": [
    "model"
   ]
  },
  {
   "cell_type": "code",
   "execution_count": 148,
   "metadata": {},
   "outputs": [],
   "source": [
    "paste_types = ['economy', 'premium']\n",
    "ingredients = ['peanuts', 'sunflower seeds', 'honey']"
   ]
  },
  {
   "cell_type": "code",
   "execution_count": 149,
   "metadata": {},
   "outputs": [],
   "source": [
    "ing_weight = pulp.LpVariable.dicts('weight kg', ((i, j) for i in paste_types for j in ingredients), lowBound = 0, cat = 'Continuous')"
   ]
  },
  {
   "cell_type": "code",
   "execution_count": 150,
   "metadata": {},
   "outputs": [
    {
     "data": {
      "text/plain": [
       "{('economy', 'peanuts'): weight_kg_('economy',_'peanuts'),\n",
       " ('economy', 'sunflower seeds'): weight_kg_('economy',_'sunflower_seeds'),\n",
       " ('economy', 'honey'): weight_kg_('economy',_'honey'),\n",
       " ('premium', 'peanuts'): weight_kg_('premium',_'peanuts'),\n",
       " ('premium', 'sunflower seeds'): weight_kg_('premium',_'sunflower_seeds'),\n",
       " ('premium', 'honey'): weight_kg_('premium',_'honey')}"
      ]
     },
     "execution_count": 150,
     "metadata": {},
     "output_type": "execute_result"
    }
   ],
   "source": [
    "ing_weight"
   ]
  },
  {
   "cell_type": "code",
   "execution_count": 151,
   "metadata": {},
   "outputs": [],
   "source": [
    "model += (pulp.lpSum([120 * ing_weight[(i, 'peanuts')] + 60 * ing_weight[(i, 'sunflower seeds')] + 250 * ing_weight[(i, 'honey')] for i in paste_types]))"
   ]
  },
  {
   "cell_type": "code",
   "execution_count": 152,
   "metadata": {},
   "outputs": [
    {
     "data": {
      "text/plain": [
       "Cost minimising blending problem:\n",
       "MINIMIZE\n",
       "250*weight_kg_('economy',_'honey') + 120*weight_kg_('economy',_'peanuts') + 60*weight_kg_('economy',_'sunflower_seeds') + 250*weight_kg_('premium',_'honey') + 120*weight_kg_('premium',_'peanuts') + 60*weight_kg_('premium',_'sunflower_seeds') + 0\n",
       "VARIABLES\n",
       "weight_kg_('economy',_'honey') Continuous\n",
       "weight_kg_('economy',_'peanuts') Continuous\n",
       "weight_kg_('economy',_'sunflower_seeds') Continuous\n",
       "weight_kg_('premium',_'honey') Continuous\n",
       "weight_kg_('premium',_'peanuts') Continuous\n",
       "weight_kg_('premium',_'sunflower_seeds') Continuous"
      ]
     },
     "execution_count": 152,
     "metadata": {},
     "output_type": "execute_result"
    }
   ],
   "source": [
    "model"
   ]
  },
  {
   "cell_type": "code",
   "execution_count": 153,
   "metadata": {},
   "outputs": [],
   "source": [
    "# constraints\n",
    "# 100 economy and 100 premium pastes at 0.25 kg\n",
    "\n",
    "model += pulp.lpSum([ing_weight['economy', j] for j in ingredients]) == 100 * 0.25\n",
    "model += pulp.lpSum([ing_weight['premium', j] for j in ingredients]) == 100 * 0.25\n",
    "\n",
    "# economy paste has >= 40% peanuts, premium >= 60%\n",
    "model += ing_weight['economy', 'peanuts'] >= (0.4 * pulp.lpSum([ing_weight['economy', j] for j in ingredients]))\n",
    "model += ing_weight['premium', 'peanuts'] >= (0.6 * pulp.lpSum([ing_weight['premium', j] for j in ingredients]))\n",
    "\n",
    "# economy paste must be <= 25% sunflower seeds\n",
    "model += ing_weight['economy', 'sunflower seeds'] <= (0.25 * pulp.lpSum([ing_weight['economy', j] for j in ingredients]))\n",
    "model += ing_weight['premium', 'sunflower seeds'] <= (0.25 * pulp.lpSum([ing_weight['premium', j] for j in ingredients]))\n",
    "\n",
    "# we have 30 kg of peanuts, 50 kg of sunflower seeds and 10 kg of honey\n",
    "model += pulp.lpSum([ing_weight[i, 'peanuts'] for i in paste_types]) <= 30\n",
    "model += pulp.lpSum([ing_weight[i, 'sunflower seeds'] for i in paste_types]) <= 50\n",
    "model += pulp.lpSum([ing_weight[i, 'honey'] for i in paste_types]) <= 10\n",
    "\n"
   ]
  },
  {
   "cell_type": "code",
   "execution_count": 154,
   "metadata": {},
   "outputs": [
    {
     "data": {
      "text/plain": [
       "Cost minimising blending problem:\n",
       "MINIMIZE\n",
       "250*weight_kg_('economy',_'honey') + 120*weight_kg_('economy',_'peanuts') + 60*weight_kg_('economy',_'sunflower_seeds') + 250*weight_kg_('premium',_'honey') + 120*weight_kg_('premium',_'peanuts') + 60*weight_kg_('premium',_'sunflower_seeds') + 0\n",
       "SUBJECT TO\n",
       "_C1: weight_kg_('economy',_'honey') + weight_kg_('economy',_'peanuts')\n",
       " + weight_kg_('economy',_'sunflower_seeds') = 25\n",
       "\n",
       "_C2: weight_kg_('premium',_'honey') + weight_kg_('premium',_'peanuts')\n",
       " + weight_kg_('premium',_'sunflower_seeds') = 25\n",
       "\n",
       "_C3: - 0.4 weight_kg_('economy',_'honey')\n",
       " + 0.6 weight_kg_('economy',_'peanuts')\n",
       " - 0.4 weight_kg_('economy',_'sunflower_seeds') >= 0\n",
       "\n",
       "_C4: - 0.6 weight_kg_('premium',_'honey')\n",
       " + 0.4 weight_kg_('premium',_'peanuts')\n",
       " - 0.6 weight_kg_('premium',_'sunflower_seeds') >= 0\n",
       "\n",
       "_C5: - 0.25 weight_kg_('economy',_'honey')\n",
       " - 0.25 weight_kg_('economy',_'peanuts')\n",
       " + 0.75 weight_kg_('economy',_'sunflower_seeds') <= 0\n",
       "\n",
       "_C6: - 0.25 weight_kg_('premium',_'honey')\n",
       " - 0.25 weight_kg_('premium',_'peanuts')\n",
       " + 0.75 weight_kg_('premium',_'sunflower_seeds') <= 0\n",
       "\n",
       "_C7: weight_kg_('economy',_'peanuts') + weight_kg_('premium',_'peanuts') <= 30\n",
       "\n",
       "_C8: weight_kg_('economy',_'sunflower_seeds')\n",
       " + weight_kg_('premium',_'sunflower_seeds') <= 50\n",
       "\n",
       "_C9: weight_kg_('economy',_'honey') + weight_kg_('premium',_'honey') <= 10\n",
       "\n",
       "VARIABLES\n",
       "weight_kg_('economy',_'honey') Continuous\n",
       "weight_kg_('economy',_'peanuts') Continuous\n",
       "weight_kg_('economy',_'sunflower_seeds') Continuous\n",
       "weight_kg_('premium',_'honey') Continuous\n",
       "weight_kg_('premium',_'peanuts') Continuous\n",
       "weight_kg_('premium',_'sunflower_seeds') Continuous"
      ]
     },
     "execution_count": 154,
     "metadata": {},
     "output_type": "execute_result"
    }
   ],
   "source": [
    "model"
   ]
  },
  {
   "cell_type": "code",
   "execution_count": 155,
   "metadata": {},
   "outputs": [
    {
     "data": {
      "text/plain": [
       "'Optimal'"
      ]
     },
     "execution_count": 155,
     "metadata": {},
     "output_type": "execute_result"
    }
   ],
   "source": [
    "model.solve()\n",
    "pulp.LpStatus[model.status]"
   ]
  },
  {
   "cell_type": "code",
   "execution_count": 156,
   "metadata": {},
   "outputs": [
    {
     "name": "stdout",
     "output_type": "stream",
     "text": [
      "The weight of peanuts in economy pastes is 11.25 kg\n",
      "The weight of sunflower seeds in economy pastes is 6.25 kg\n",
      "The weight of honey in economy pastes is 7.5 kg\n",
      "The weight of peanuts in premium pastes is 18.75 kg\n",
      "The weight of sunflower seeds in premium pastes is 6.25 kg\n",
      "The weight of honey in premium pastes is 0.0 kg\n"
     ]
    }
   ],
   "source": [
    "for var in ing_weight:\n",
    "    var_value = ing_weight[var].varValue\n",
    "    print('The weight of {0} in {1} pastes is {2} kg'.format(var[1], var[0], var_value))"
   ]
  },
  {
   "cell_type": "code",
   "execution_count": 157,
   "metadata": {},
   "outputs": [
    {
     "name": "stdout",
     "output_type": "stream",
     "text": [
      "The total cost is Russian Rubles 6225.0 for 100 economy pastes and 100 premium pastes\n"
     ]
    }
   ],
   "source": [
    "total_cost = pulp.value(model.objective)\n",
    "print('The total cost is Russian Rubles {} for 100 economy pastes and 100 premium pastes'.format(round(total_cost, 3)))"
   ]
  }
 ],
 "metadata": {
  "kernelspec": {
   "display_name": "Python 3",
   "language": "python",
   "name": "python3"
  },
  "language_info": {
   "codemirror_mode": {
    "name": "ipython",
    "version": 3
   },
   "file_extension": ".py",
   "mimetype": "text/x-python",
   "name": "python",
   "nbconvert_exporter": "python",
   "pygments_lexer": "ipython3",
   "version": "3.7.7"
  }
 },
 "nbformat": 4,
 "nbformat_minor": 4
}
